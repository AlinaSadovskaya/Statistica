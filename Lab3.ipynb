{
 "cells": [
  {
   "cell_type": "code",
   "execution_count": 1,
   "metadata": {},
   "outputs": [],
   "source": [
    "import numpy as np\n",
    "import pandas as pd\n",
    "import matplotlib.pyplot as plt\n",
    "import scipy.stats as sts\n",
    "from statsmodels.distributions.empirical_distribution import ECDF"
   ]
  },
  {
   "cell_type": "code",
   "execution_count": 2,
   "metadata": {},
   "outputs": [],
   "source": [
    "# b = 2, a =-4\n",
    "a = -4.\n",
    "b = 2."
   ]
  },
  {
   "cell_type": "markdown",
   "metadata": {},
   "source": [
    "## Задание 1)\n",
    "Критерий Пирсона"
   ]
  },
  {
   "cell_type": "markdown",
   "metadata": {},
   "source": [
    "Формируем выборку из 200 случайных чисел"
   ]
  },
  {
   "cell_type": "code",
   "execution_count": 3,
   "metadata": {},
   "outputs": [],
   "source": [
    "n = 200\n",
    "X = []\n",
    "Y = []\n",
    "# Формируем однородную непрерывную случайную величину.\n",
    "random_variable = sts.uniform()\n",
    "# Генерируем случайные числа\n",
    "xi = random_variable.rvs(size=n)\n",
    "# X_i = e_i(b - a) + a\n",
    "for i in range(n):\n",
    "    x = xi[i] * (b - a) + a\n",
    "    X.append(x)\n",
    "    if x < 0:\n",
    "        y = - (abs(x))**(1/3)\n",
    "    else:\n",
    "        y = x**(1/3)\n",
    "    Y.append(y)"
   ]
  },
  {
   "cell_type": "code",
   "execution_count": 4,
   "metadata": {},
   "outputs": [
    {
     "name": "stdout",
     "output_type": "stream",
     "text": [
      "[-1.4541109968924626, -1.2745618275799373, -1.512993715981195, 0.7744136210404353, -1.2397981036637598, -0.8490933902631341, 0.9234454066040195, 1.1737192219045285, 0.5546349957150872, -1.459086716147179, -1.2309836291374292, -0.8297266344312328, 1.117805154778001, -1.1220012835444337, 1.2548375811225365, -0.9551305395946716, 1.0202162930952805, -1.0478401459080418, -0.9881204574705251, -0.6303352894679028, -1.5854207371907698, -1.299213719625113, -1.3825140718702345, 1.1239324931443953, 1.0258044229884047, 1.1212259819805892, 1.225997128779465, 0.2805438050590605, -0.9911337031099675, 0.6675063211649749, -1.4085405175928165, -0.4704351556836688, -1.4354182512950568, 0.8835168240433346, 0.9868905883814831, -0.27083137724220047, 1.0944379648724119, -1.533105856212092, -1.3898824387847166, -1.5021977023927269, -1.3260898315848852, -1.0103459023244519, -1.0724342359037118, 0.6486673094754976, -1.5016809062268572, 1.2593119922978422, -0.7922238263490989, -1.2514039515761448, -1.3622007818760806, 1.218106813721973, 1.1297212794044569, 1.2272764224405337, -1.5492372973214217, -1.5648753874860721, -1.5721036028189828, -1.3371602990417322, 0.9163097402318371, -1.3831644485348475, -0.648376525292736, -1.0650888554980915, 1.2138055366848355, 0.8008427098371655, 1.0806628295584961, 1.0424684745706714, -1.4556947092104573, -0.23768014108645738, -0.7636657963223803, -0.6015506136353131, -1.4832895634722594, 0.577028359736044, -1.3158815992146824, 0.7841408242202447, -0.7054582720123294, 0.7497694840142598, -0.8307561732457807, -1.133345544580385, -0.28517904766906305, -0.9162704844302657, 0.5457537165577933, 0.7562769199344449, 1.2338496664171275, -1.4358897878961046, 1.0323471848249128, -1.1279719368740897, -1.278845979406258, -0.8623743739571904, -1.1673384122578045, 1.1984748248390704, -1.359273628789565, -0.9334944602544237, -1.4893670781548416, 0.8689594463983285, -0.9959528382673924, -1.0606150806475652, -1.5630513107511381, -1.154984514178138, -1.2633667408762492, -1.5523242556506507, 0.8268519274326901, -1.5474101953294246, 0.9628216375245778, -1.537323141447702, -0.7496575978897548, -0.5142392255559017, 1.076232009888049, -0.9483204188409636, -1.0330788649994418, -1.309363610360113, -1.4845417682070479, 1.2272965484731708, -1.5271858557996632, -0.8857332906706916, -1.2754749031101877, 0.5835857362446515, -1.4455621821012596, -1.3377015987947678, -1.4726722494854694, -1.363064981954888, 1.2497840929790047, 1.233821705127031, -1.4248812742903603, 0.8384177362951594, -1.3527618806944508, -1.3518163970316786, -0.9921978438150656, -1.340470049264467, -1.212502608051692, -1.3848610086475879, -1.5216729031109213, -1.4728251331268507, -0.48092344912221496, -0.7040548220053174, -0.8977389945710209, 0.5625620528699996, -1.246565827279369, -1.1388580547362903, -1.0387954477923318, -0.7392414860642577, -1.4873354693065413, -1.445571928603281, -0.7434961381957935, 1.1350798461586875, -1.5237283536907167, 1.1197204674296657, 0.6350516039566432, -1.058833481924127, -0.7791343718779021, -0.5491320022702924, 1.1800504770181366, -0.5234878345474199, 0.7491959003432491, -0.9964680338566865, -1.2119895393459608, -1.131501905498508, -1.4194597022950972, -1.3465337058794868, 0.37728175555225646, 0.7467319000820933, -1.4670183924117857, -1.0940035802605563, -1.537255776497876, 1.1570919456880975, -0.7661011773631043, -1.0546136367992511, -1.1615558333090437, 1.2385466890221137, -1.3676795714455234, -0.5660134241907318, 0.5930721363890649, -1.4407987687970982, 0.9125444508699233, 1.084967170892676, 0.6669435108750006, -0.9932571187345609, 1.0091942248571246, 0.3655330671616118, -0.9141845576170375, 0.7377600202814485, 0.9426669392274742, -0.8853901840604153, -1.3746212954909143, -0.7900798667526097, -1.574969456966657, 1.0043499466652932, 1.0355613717899423, 0.37215065547824905, -0.6344425330389826, -1.295493315489244, -0.7373892879681389, 0.8076124559507281, -1.1643098081665852, 0.24647812170254388, 1.2150697670719843, 0.8124883137739451, -1.0880768857711032, 1.1589285601061687, -0.37895949913458216, 0.9981586730041749, -0.8518666417006798, 0.5500201489050625]\n"
     ]
    }
   ],
   "source": [
    "print(Y)"
   ]
  },
  {
   "cell_type": "markdown",
   "metadata": {},
   "source": [
    "Cтроим гистограмму равновероятностным способом:"
   ]
  },
  {
   "cell_type": "code",
   "execution_count": 5,
   "metadata": {},
   "outputs": [],
   "source": [
    "#определяем колво интервалов\n",
    "if n <= 100:\n",
    "    M = int(np.sqrt(n))\n",
    "else:\n",
    "    M = int(4 * np.log10(n))"
   ]
  },
  {
   "cell_type": "code",
   "execution_count": 6,
   "metadata": {},
   "outputs": [],
   "source": [
    "m = n // M\n",
    "def equal_probability(sample):\n",
    "    sample.sort()\n",
    "    A = np.zeros(M)\n",
    "    B = np.zeros(M)\n",
    "    \n",
    "    A[0] = sample[0]\n",
    "    B[-1] = sample[-1]\n",
    "    for i in range(1, M):\n",
    "        A[i] = (sample[m * i] + sample[m * i + 1]) / 2\n",
    "        B[i - 1] = A[i]\n",
    "    delta = []\n",
    "    for i in range(len(A)):\n",
    "        delta.append(B[i] - A[i])\n",
    "    f_x = []\n",
    "    x = []\n",
    "    s = A[0]\n",
    " \n",
    "    for i in delta:\n",
    "        f_x.append(1. /(M * i))\n",
    "        x.append(s)\n",
    "        s += i\n",
    "        \n",
    "    return (x, f_x, A, B, delta)"
   ]
  },
  {
   "cell_type": "code",
   "execution_count": 7,
   "metadata": {},
   "outputs": [
    {
     "data": {
      "text/html": [
       "<div>\n",
       "<style scoped>\n",
       "    .dataframe tbody tr th:only-of-type {\n",
       "        vertical-align: middle;\n",
       "    }\n",
       "\n",
       "    .dataframe tbody tr th {\n",
       "        vertical-align: top;\n",
       "    }\n",
       "\n",
       "    .dataframe thead th {\n",
       "        text-align: right;\n",
       "    }\n",
       "</style>\n",
       "<table border=\"1\" class=\"dataframe\">\n",
       "  <thead>\n",
       "    <tr style=\"text-align: right;\">\n",
       "      <th></th>\n",
       "      <th>$x_i$</th>\n",
       "      <th>$A_i$</th>\n",
       "      <th>$B_i$</th>\n",
       "      <th>$delta_i$</th>\n",
       "      <th>$v_i$</th>\n",
       "      <th>$f_i$</th>\n",
       "    </tr>\n",
       "  </thead>\n",
       "  <tbody>\n",
       "    <tr>\n",
       "      <th>0</th>\n",
       "      <td>-1.585421</td>\n",
       "      <td>-1.585421</td>\n",
       "      <td>-1.469845</td>\n",
       "      <td>0.115575</td>\n",
       "      <td>22</td>\n",
       "      <td>0.961373</td>\n",
       "    </tr>\n",
       "    <tr>\n",
       "      <th>1</th>\n",
       "      <td>-1.469845</td>\n",
       "      <td>-1.469845</td>\n",
       "      <td>-1.352289</td>\n",
       "      <td>0.117556</td>\n",
       "      <td>22</td>\n",
       "      <td>0.945175</td>\n",
       "    </tr>\n",
       "    <tr>\n",
       "      <th>2</th>\n",
       "      <td>-1.352289</td>\n",
       "      <td>-1.352289</td>\n",
       "      <td>-1.162933</td>\n",
       "      <td>0.189356</td>\n",
       "      <td>22</td>\n",
       "      <td>0.586783</td>\n",
       "    </tr>\n",
       "    <tr>\n",
       "      <th>3</th>\n",
       "      <td>-1.162933</td>\n",
       "      <td>-1.162933</td>\n",
       "      <td>-0.991666</td>\n",
       "      <td>0.171267</td>\n",
       "      <td>22</td>\n",
       "      <td>0.648759</td>\n",
       "    </tr>\n",
       "    <tr>\n",
       "      <th>4</th>\n",
       "      <td>-0.991666</td>\n",
       "      <td>-0.991666</td>\n",
       "      <td>-0.741369</td>\n",
       "      <td>0.250297</td>\n",
       "      <td>22</td>\n",
       "      <td>0.443917</td>\n",
       "    </tr>\n",
       "    <tr>\n",
       "      <th>5</th>\n",
       "      <td>-0.741369</td>\n",
       "      <td>-0.741369</td>\n",
       "      <td>0.374716</td>\n",
       "      <td>1.116085</td>\n",
       "      <td>22</td>\n",
       "      <td>0.099554</td>\n",
       "    </tr>\n",
       "    <tr>\n",
       "      <th>6</th>\n",
       "      <td>0.374716</td>\n",
       "      <td>0.374716</td>\n",
       "      <td>0.819670</td>\n",
       "      <td>0.444954</td>\n",
       "      <td>22</td>\n",
       "      <td>0.249714</td>\n",
       "    </tr>\n",
       "    <tr>\n",
       "      <th>7</th>\n",
       "      <td>0.819670</td>\n",
       "      <td>0.819670</td>\n",
       "      <td>1.106122</td>\n",
       "      <td>0.286451</td>\n",
       "      <td>22</td>\n",
       "      <td>0.387888</td>\n",
       "    </tr>\n",
       "    <tr>\n",
       "      <th>8</th>\n",
       "      <td>1.106122</td>\n",
       "      <td>1.106122</td>\n",
       "      <td>1.259312</td>\n",
       "      <td>0.153190</td>\n",
       "      <td>22</td>\n",
       "      <td>0.725314</td>\n",
       "    </tr>\n",
       "  </tbody>\n",
       "</table>\n",
       "</div>"
      ],
      "text/plain": [
       "      $x_i$     $A_i$     $B_i$  $delta_i$  $v_i$     $f_i$\n",
       "0 -1.585421 -1.585421 -1.469845   0.115575     22  0.961373\n",
       "1 -1.469845 -1.469845 -1.352289   0.117556     22  0.945175\n",
       "2 -1.352289 -1.352289 -1.162933   0.189356     22  0.586783\n",
       "3 -1.162933 -1.162933 -0.991666   0.171267     22  0.648759\n",
       "4 -0.991666 -0.991666 -0.741369   0.250297     22  0.443917\n",
       "5 -0.741369 -0.741369  0.374716   1.116085     22  0.099554\n",
       "6  0.374716  0.374716  0.819670   0.444954     22  0.249714\n",
       "7  0.819670  0.819670  1.106122   0.286451     22  0.387888\n",
       "8  1.106122  1.106122  1.259312   0.153190     22  0.725314"
      ]
     },
     "execution_count": 7,
     "metadata": {},
     "output_type": "execute_result"
    }
   ],
   "source": [
    "x, f_x, A, B, delta = equal_probability(Y)\n",
    "table = pd.DataFrame(data={ \"$x_i$\": x, \"$A_i$\" : A, \"$B_i$\": B, \"$delta_i$\": delta, \"$v_i$\": [m]*len(x), \"$f_i$\": f_x})\n",
    "table"
   ]
  },
  {
   "cell_type": "markdown",
   "metadata": {},
   "source": [
    "Находим теоретическую плотность распределения:"
   ]
  },
  {
   "cell_type": "code",
   "execution_count": 8,
   "metadata": {},
   "outputs": [],
   "source": [
    "x_teor = np.linspace(-(4)**(1/3), 2**(1/3), 100)\n",
    "f_y = []\n",
    "for xi in x_teor:\n",
    "    f_y.append(1/2*xi**2) # теоретическая плотность распределения"
   ]
  },
  {
   "cell_type": "code",
   "execution_count": 9,
   "metadata": {},
   "outputs": [
    {
     "data": {
      "image/png": "[encoded data removed]",
      "text/plain": [
       "<Figure size 432x288 with 1 Axes>"
      ]
     },
     "metadata": {
      "needs_background": "light"
     },
     "output_type": "display_data"
    }
   ],
   "source": [
    "plt.fill_between(x, y1=f_x, y2=[0]*len(f_x), color='b', step='post', alpha=0.5, label=\"Histogram\")\n",
    "plt.plot(x_teor, f_y, label='Theoretical distribution density', c='r')\n",
    "plt.legend()\n",
    "plt.xlabel(\"y\")\n",
    "plt.ylabel(\"f(Y)\")\n",
    "plt.show()"
   ]
  },
  {
   "cell_type": "markdown",
   "metadata": {},
   "source": [
    "Выдвинем гипотезу H0, что наши эмпирическое и теоретическое распределения совпадают."
   ]
  },
  {
   "cell_type": "markdown",
   "metadata": {},
   "source": [
    "\n",
    "Рассчитаем теоретическую вероятность попадания случайной величины в $i$-й интервал при условии, что гипотеза верна"
   ]
  },
  {
   "cell_type": "markdown",
   "metadata": {},
   "source": [
    "$$p_i=F(B_i)-F(A_i) = \\big(\\frac{1}{6}((B_i)^3+4)-\\frac{1}{6}((A_i)^3+4)\\big)=\\frac{1}{6}((B_i)^3-(A_i)^3)$$"
   ]
  },
  {
   "cell_type": "code",
   "execution_count": 10,
   "metadata": {},
   "outputs": [],
   "source": [
    "p_teor = []\n",
    "pi = [m / n] * M\n",
    "F_in_B = []\n",
    "F_in_A = []\n",
    "for i in range(len(A)):\n",
    "    F_Ai = 1./6. * ((A[i])**3+4)\n",
    "    F_Bi = 1./6. * ((B[i])**3+4)\n",
    "    F_in_A.append(F_Ai)\n",
    "    F_in_B.append(F_Bi)\n",
    "    p_teor.append(F_Bi - F_Ai)"
   ]
  },
  {
   "cell_type": "markdown",
   "metadata": {},
   "source": [
    "Найдем значение критерия $\\chi^2$:"
   ]
  },
  {
   "cell_type": "code",
   "execution_count": 11,
   "metadata": {},
   "outputs": [
    {
     "name": "stdout",
     "output_type": "stream",
     "text": [
      "xi =  9.368128496992385\n"
     ]
    }
   ],
   "source": [
    "xi = []\n",
    "for i in range(M):\n",
    "    xi.append(n * (p_teor[i] - pi[i])**2 / p_teor[i])\n",
    "print(\"xi = \" , sum(xi))"
   ]
  },
  {
   "cell_type": "code",
   "execution_count": 12,
   "metadata": {},
   "outputs": [
    {
     "data": {
      "text/html": [
       "<div>\n",
       "<style scoped>\n",
       "    .dataframe tbody tr th:only-of-type {\n",
       "        vertical-align: middle;\n",
       "    }\n",
       "\n",
       "    .dataframe tbody tr th {\n",
       "        vertical-align: top;\n",
       "    }\n",
       "\n",
       "    .dataframe thead th {\n",
       "        text-align: right;\n",
       "    }\n",
       "</style>\n",
       "<table border=\"1\" class=\"dataframe\">\n",
       "  <thead>\n",
       "    <tr style=\"text-align: right;\">\n",
       "      <th></th>\n",
       "      <th>$F(A_i)$</th>\n",
       "      <th>$F(B_i)$</th>\n",
       "      <th>$p_i$</th>\n",
       "      <th>$p_i^*$</th>\n",
       "      <th>$\\chi_i$</th>\n",
       "    </tr>\n",
       "  </thead>\n",
       "  <tbody>\n",
       "    <tr>\n",
       "      <th>0</th>\n",
       "      <td>0.002492</td>\n",
       "      <td>0.137413</td>\n",
       "      <td>0.134921</td>\n",
       "      <td>0.11</td>\n",
       "      <td>0.920645</td>\n",
       "    </tr>\n",
       "    <tr>\n",
       "      <th>1</th>\n",
       "      <td>0.137413</td>\n",
       "      <td>0.254515</td>\n",
       "      <td>0.117101</td>\n",
       "      <td>0.11</td>\n",
       "      <td>0.086130</td>\n",
       "    </tr>\n",
       "    <tr>\n",
       "      <th>2</th>\n",
       "      <td>0.254515</td>\n",
       "      <td>0.404539</td>\n",
       "      <td>0.150024</td>\n",
       "      <td>0.11</td>\n",
       "      <td>2.135598</td>\n",
       "    </tr>\n",
       "    <tr>\n",
       "      <th>3</th>\n",
       "      <td>0.404539</td>\n",
       "      <td>0.504132</td>\n",
       "      <td>0.099593</td>\n",
       "      <td>0.11</td>\n",
       "      <td>0.217481</td>\n",
       "    </tr>\n",
       "    <tr>\n",
       "      <th>4</th>\n",
       "      <td>0.504132</td>\n",
       "      <td>0.598754</td>\n",
       "      <td>0.094621</td>\n",
       "      <td>0.11</td>\n",
       "      <td>0.499891</td>\n",
       "    </tr>\n",
       "    <tr>\n",
       "      <th>5</th>\n",
       "      <td>0.598754</td>\n",
       "      <td>0.675436</td>\n",
       "      <td>0.076682</td>\n",
       "      <td>0.11</td>\n",
       "      <td>2.895320</td>\n",
       "    </tr>\n",
       "    <tr>\n",
       "      <th>6</th>\n",
       "      <td>0.675436</td>\n",
       "      <td>0.758450</td>\n",
       "      <td>0.083015</td>\n",
       "      <td>0.11</td>\n",
       "      <td>1.754406</td>\n",
       "    </tr>\n",
       "    <tr>\n",
       "      <th>7</th>\n",
       "      <td>0.758450</td>\n",
       "      <td>0.892224</td>\n",
       "      <td>0.133774</td>\n",
       "      <td>0.11</td>\n",
       "      <td>0.844994</td>\n",
       "    </tr>\n",
       "    <tr>\n",
       "      <th>8</th>\n",
       "      <td>0.892224</td>\n",
       "      <td>0.999517</td>\n",
       "      <td>0.107293</td>\n",
       "      <td>0.11</td>\n",
       "      <td>0.013663</td>\n",
       "    </tr>\n",
       "  </tbody>\n",
       "</table>\n",
       "</div>"
      ],
      "text/plain": [
       "   $F(A_i)$  $F(B_i)$     $p_i$  $p_i^*$  $\\chi_i$\n",
       "0  0.002492  0.137413  0.134921     0.11  0.920645\n",
       "1  0.137413  0.254515  0.117101     0.11  0.086130\n",
       "2  0.254515  0.404539  0.150024     0.11  2.135598\n",
       "3  0.404539  0.504132  0.099593     0.11  0.217481\n",
       "4  0.504132  0.598754  0.094621     0.11  0.499891\n",
       "5  0.598754  0.675436  0.076682     0.11  2.895320\n",
       "6  0.675436  0.758450  0.083015     0.11  1.754406\n",
       "7  0.758450  0.892224  0.133774     0.11  0.844994\n",
       "8  0.892224  0.999517  0.107293     0.11  0.013663"
      ]
     },
     "execution_count": 12,
     "metadata": {},
     "output_type": "execute_result"
    }
   ],
   "source": [
    "table2 = pd.DataFrame(data={\"$F(A_i)$\" : F_in_A, \"$F(B_i)$\": F_in_B, \"$p_i$\": p_teor, \"$p_i^*$\": pi, \"$\\chi_i$\": xi})\n",
    "table2"
   ]
  },
  {
   "cell_type": "code",
   "execution_count": 13,
   "metadata": {},
   "outputs": [
    {
     "name": "stdout",
     "output_type": "stream",
     "text": [
      "k =  8\n"
     ]
    }
   ],
   "source": [
    "k = M - 1\n",
    "print(\"k = \" , k)"
   ]
  },
  {
   "cell_type": "markdown",
   "metadata": {},
   "source": [
    "$\\chi_{0.01, 8}=20.10$ , $\\chi_{0.99, 8}=1.646$"
   ]
  },
  {
   "cell_type": "markdown",
   "metadata": {},
   "source": [
    "Так как $\\chi_{0.01, 8}$ < $\\chi$ < $\\chi_{0.99, 8}$, то нет оснований отвергать гипотезу $H_0$"
   ]
  },
  {
   "cell_type": "markdown",
   "metadata": {},
   "source": [
    "##  Задание 2) \n",
    "критерий Колмогорова"
   ]
  },
  {
   "cell_type": "code",
   "execution_count": 14,
   "metadata": {},
   "outputs": [],
   "source": [
    "n = 30\n",
    "X = []\n",
    "Y = []\n",
    "# Формируем однородную непрерывную случайную величину.\n",
    "random_variable = sts.uniform()\n",
    "# Генерируем случайные числа\n",
    "xi = random_variable.rvs(size=n)\n",
    "# X_i = e_i(b - a) + a\n",
    "for i in range(n):\n",
    "    x = xi[i] * (b - a) + a\n",
    "    X.append(x)\n",
    "    if x < 0:\n",
    "        y = - (abs(x))**(1/3)\n",
    "    else:\n",
    "        y = x**(1/3)\n",
    "    Y.append(y)\n",
    "    \n",
    "Y.sort()"
   ]
  },
  {
   "cell_type": "markdown",
   "metadata": {},
   "source": [
    "Строим вариационный ряд:"
   ]
  },
  {
   "cell_type": "code",
   "execution_count": 15,
   "metadata": {},
   "outputs": [
    {
     "data": {
      "text/html": [
       "<div>\n",
       "<style scoped>\n",
       "    .dataframe tbody tr th:only-of-type {\n",
       "        vertical-align: middle;\n",
       "    }\n",
       "\n",
       "    .dataframe tbody tr th {\n",
       "        vertical-align: top;\n",
       "    }\n",
       "\n",
       "    .dataframe thead th {\n",
       "        text-align: right;\n",
       "    }\n",
       "</style>\n",
       "<table border=\"1\" class=\"dataframe\">\n",
       "  <thead>\n",
       "    <tr style=\"text-align: right;\">\n",
       "      <th></th>\n",
       "      <th>0</th>\n",
       "      <th>1</th>\n",
       "      <th>2</th>\n",
       "      <th>3</th>\n",
       "      <th>4</th>\n",
       "      <th>5</th>\n",
       "      <th>6</th>\n",
       "      <th>7</th>\n",
       "      <th>8</th>\n",
       "      <th>9</th>\n",
       "      <th>...</th>\n",
       "      <th>20</th>\n",
       "      <th>21</th>\n",
       "      <th>22</th>\n",
       "      <th>23</th>\n",
       "      <th>24</th>\n",
       "      <th>25</th>\n",
       "      <th>26</th>\n",
       "      <th>27</th>\n",
       "      <th>28</th>\n",
       "      <th>29</th>\n",
       "    </tr>\n",
       "  </thead>\n",
       "  <tbody>\n",
       "    <tr>\n",
       "      <th>$Y_i$</th>\n",
       "      <td>-1.583149</td>\n",
       "      <td>-1.540942</td>\n",
       "      <td>-1.540083</td>\n",
       "      <td>-1.536858</td>\n",
       "      <td>-1.521174</td>\n",
       "      <td>-1.503514</td>\n",
       "      <td>-1.477221</td>\n",
       "      <td>-1.366479</td>\n",
       "      <td>-1.321975</td>\n",
       "      <td>-1.307866</td>\n",
       "      <td>...</td>\n",
       "      <td>-0.486996</td>\n",
       "      <td>0.362124</td>\n",
       "      <td>0.819065</td>\n",
       "      <td>0.953083</td>\n",
       "      <td>0.958905</td>\n",
       "      <td>0.999809</td>\n",
       "      <td>1.069115</td>\n",
       "      <td>1.113877</td>\n",
       "      <td>1.220911</td>\n",
       "      <td>1.224812</td>\n",
       "    </tr>\n",
       "  </tbody>\n",
       "</table>\n",
       "<p>1 rows × 30 columns</p>\n",
       "</div>"
      ],
      "text/plain": [
       "             0         1         2         3         4         5         6   \\\n",
       "$Y_i$ -1.583149 -1.540942 -1.540083 -1.536858 -1.521174 -1.503514 -1.477221   \n",
       "\n",
       "             7         8         9   ...        20        21        22  \\\n",
       "$Y_i$ -1.366479 -1.321975 -1.307866  ... -0.486996  0.362124  0.819065   \n",
       "\n",
       "             23        24        25        26        27        28        29  \n",
       "$Y_i$  0.953083  0.958905  0.999809  1.069115  1.113877  1.220911  1.224812  \n",
       "\n",
       "[1 rows x 30 columns]"
      ]
     },
     "execution_count": 15,
     "metadata": {},
     "output_type": "execute_result"
    }
   ],
   "source": [
    "variational_series = pd.DataFrame(data={\"$Y_i$\": Y})\n",
    "variational_series.T"
   ]
  },
  {
   "cell_type": "markdown",
   "metadata": {},
   "source": [
    "Графики теоретической и эмпирической функций распределения"
   ]
  },
  {
   "cell_type": "code",
   "execution_count": 17,
   "metadata": {},
   "outputs": [
    {
     "name": "stdout",
     "output_type": "stream",
     "text": [
      "[0.         0.03333333 0.06666667 0.1        0.13333333 0.16666667\n",
      " 0.2        0.23333333 0.26666667 0.3        0.33333333 0.36666667\n",
      " 0.4        0.43333333 0.46666667 0.5        0.53333333 0.56666667\n",
      " 0.6        0.63333333 0.66666667 0.7        0.73333333 0.76666667\n",
      " 0.8        0.83333333 0.86666667 0.9        0.93333333 0.96666667\n",
      " 1.        ]\n"
     ]
    },
    {
     "data": {
      "text/plain": [
       "<matplotlib.legend.Legend at 0xf17fb50>"
      ]
     },
     "execution_count": 17,
     "metadata": {},
     "output_type": "execute_result"
    },
    {
     "data": {
      "image/png": "[encoded data removed]",
      "text/plain": [
       "<Figure size 432x288 with 1 Axes>"
      ]
     },
     "metadata": {
      "needs_background": "light"
     },
     "output_type": "display_data"
    }
   ],
   "source": [
    "emp_dist_func = ECDF(Y)\n",
    "print(emp_dist_func.y)\n",
    "x_teor = np.linspace(-(4)**(1/3), 2**(1/3), 100)\n",
    "y_teor = (x_teor**3 + 4) / 6 # теоретическая функция распределения\n",
    "plt.plot(x_teor, y_teor, label='Theoretical distribution function')\n",
    "plt.step(emp_dist_func.x, emp_dist_func.y, label='Empirical distribution function')\n",
    "plt.ylabel('F(y)')\n",
    "plt.xlabel('x')\n",
    "plt.legend()"
   ]
  },
  {
   "cell_type": "markdown",
   "metadata": {},
   "source": [
    "Определим максимальное по модулю отклонение между функциями:"
   ]
  },
  {
   "cell_type": "code",
   "execution_count": 18,
   "metadata": {},
   "outputs": [
    {
     "name": "stdout",
     "output_type": "stream",
     "text": [
      "d =  0.10392772137909015\n"
     ]
    }
   ],
   "source": [
    "d_plus = []\n",
    "d_minus = []\n",
    "for i in range(n - 1):\n",
    "    d_plus.append(abs((i + 1) / n - ((Y[i])**3 + 4) / 6))\n",
    "    d_minus.append(abs(i / n - ((Y[i])**3 + 4) / 6))\n",
    "    \n",
    "d = max(max(d_plus), max(d_minus))\n",
    "print(\"d = \", d)"
   ]
  },
  {
   "cell_type": "markdown",
   "metadata": {},
   "source": [
    "Вычислим значение критерия:"
   ]
  },
  {
   "cell_type": "code",
   "execution_count": 19,
   "metadata": {},
   "outputs": [
    {
     "name": "stdout",
     "output_type": "stream",
     "text": [
      "lambda =  0.5692355734943959\n"
     ]
    }
   ],
   "source": [
    "lambd = d * np.sqrt(n)\n",
    "print(\"lambda = \", lambd)"
   ]
  },
  {
   "cell_type": "markdown",
   "metadata": {},
   "source": [
    "Из таблицы вероятностей Колмогорова выбираем критическое значение $\\lambda_y$:"
   ]
  },
  {
   "cell_type": "markdown",
   "metadata": {},
   "source": [
    "$\\gamma = 1-\\alpha = 0.95$"
   ]
  },
  {
   "cell_type": "markdown",
   "metadata": {},
   "source": [
    "$\\lambda_\\gamma$ = 1.38"
   ]
  },
  {
   "cell_type": "markdown",
   "metadata": {},
   "source": [
    " Так как 0 < $\\lambda$ < $\\lambda_\\gamma$, то гипотеза $H_0$ подтверждена"
   ]
  },
  {
   "cell_type": "markdown",
   "metadata": {},
   "source": [
    "##  Задание 3) \n",
    "критерий Мизеса"
   ]
  },
  {
   "cell_type": "code",
   "execution_count": 20,
   "metadata": {},
   "outputs": [],
   "source": [
    "n = 50\n",
    "X = []\n",
    "Y = []\n",
    "# Формируем однородную непрерывную случайную величину.\n",
    "random_variable = sts.uniform()\n",
    "# Генерируем случайные числа\n",
    "xi = random_variable.rvs(size=n)\n",
    "# X_i = e_i(b - a) + a\n",
    "for i in range(n):\n",
    "    x = xi[i] * (b - a) + a\n",
    "    X.append(x)\n",
    "    if x < 0:\n",
    "        y = - (abs(x))**(1/3)\n",
    "    else:\n",
    "        y = x**(1/3)\n",
    "    Y.append(y)\n",
    "    \n",
    "Y.sort()"
   ]
  },
  {
   "cell_type": "markdown",
   "metadata": {},
   "source": [
    "Найдем значения эмпирической функции распределения, теоретической функции распределения, значения квадрата отклонения:"
   ]
  },
  {
   "cell_type": "code",
   "execution_count": 21,
   "metadata": {},
   "outputs": [
    {
     "data": {
      "text/html": [
       "<div>\n",
       "<style scoped>\n",
       "    .dataframe tbody tr th:only-of-type {\n",
       "        vertical-align: middle;\n",
       "    }\n",
       "\n",
       "    .dataframe tbody tr th {\n",
       "        vertical-align: top;\n",
       "    }\n",
       "\n",
       "    .dataframe thead th {\n",
       "        text-align: right;\n",
       "    }\n",
       "</style>\n",
       "<table border=\"1\" class=\"dataframe\">\n",
       "  <thead>\n",
       "    <tr style=\"text-align: right;\">\n",
       "      <th></th>\n",
       "      <th>$y_i$</th>\n",
       "      <th>$F_n$</th>\n",
       "      <th>$F$</th>\n",
       "      <th>$\\delta$</th>\n",
       "    </tr>\n",
       "  </thead>\n",
       "  <tbody>\n",
       "    <tr>\n",
       "      <th>0</th>\n",
       "      <td>-1.549425</td>\n",
       "      <td>0.01</td>\n",
       "      <td>0.046712</td>\n",
       "      <td>0.001348</td>\n",
       "    </tr>\n",
       "    <tr>\n",
       "      <th>1</th>\n",
       "      <td>-1.541587</td>\n",
       "      <td>0.03</td>\n",
       "      <td>0.056072</td>\n",
       "      <td>0.000680</td>\n",
       "    </tr>\n",
       "    <tr>\n",
       "      <th>2</th>\n",
       "      <td>-1.527998</td>\n",
       "      <td>0.05</td>\n",
       "      <td>0.072078</td>\n",
       "      <td>0.000487</td>\n",
       "    </tr>\n",
       "    <tr>\n",
       "      <th>3</th>\n",
       "      <td>-1.515862</td>\n",
       "      <td>0.07</td>\n",
       "      <td>0.086133</td>\n",
       "      <td>0.000260</td>\n",
       "    </tr>\n",
       "    <tr>\n",
       "      <th>4</th>\n",
       "      <td>-1.504869</td>\n",
       "      <td>0.09</td>\n",
       "      <td>0.098671</td>\n",
       "      <td>0.000075</td>\n",
       "    </tr>\n",
       "    <tr>\n",
       "      <th>5</th>\n",
       "      <td>-1.499040</td>\n",
       "      <td>0.11</td>\n",
       "      <td>0.105246</td>\n",
       "      <td>0.000023</td>\n",
       "    </tr>\n",
       "    <tr>\n",
       "      <th>6</th>\n",
       "      <td>-1.498739</td>\n",
       "      <td>0.13</td>\n",
       "      <td>0.105584</td>\n",
       "      <td>0.000596</td>\n",
       "    </tr>\n",
       "    <tr>\n",
       "      <th>7</th>\n",
       "      <td>-1.496837</td>\n",
       "      <td>0.15</td>\n",
       "      <td>0.107717</td>\n",
       "      <td>0.001788</td>\n",
       "    </tr>\n",
       "    <tr>\n",
       "      <th>8</th>\n",
       "      <td>-1.484811</td>\n",
       "      <td>0.17</td>\n",
       "      <td>0.121081</td>\n",
       "      <td>0.002393</td>\n",
       "    </tr>\n",
       "    <tr>\n",
       "      <th>9</th>\n",
       "      <td>-1.464539</td>\n",
       "      <td>0.19</td>\n",
       "      <td>0.143125</td>\n",
       "      <td>0.002197</td>\n",
       "    </tr>\n",
       "    <tr>\n",
       "      <th>10</th>\n",
       "      <td>-1.457399</td>\n",
       "      <td>0.21</td>\n",
       "      <td>0.150745</td>\n",
       "      <td>0.003511</td>\n",
       "    </tr>\n",
       "    <tr>\n",
       "      <th>11</th>\n",
       "      <td>-1.439916</td>\n",
       "      <td>0.23</td>\n",
       "      <td>0.169089</td>\n",
       "      <td>0.003710</td>\n",
       "    </tr>\n",
       "    <tr>\n",
       "      <th>12</th>\n",
       "      <td>-1.432460</td>\n",
       "      <td>0.25</td>\n",
       "      <td>0.176780</td>\n",
       "      <td>0.005361</td>\n",
       "    </tr>\n",
       "    <tr>\n",
       "      <th>13</th>\n",
       "      <td>-1.392623</td>\n",
       "      <td>0.27</td>\n",
       "      <td>0.216525</td>\n",
       "      <td>0.002860</td>\n",
       "    </tr>\n",
       "    <tr>\n",
       "      <th>14</th>\n",
       "      <td>-1.369387</td>\n",
       "      <td>0.29</td>\n",
       "      <td>0.238683</td>\n",
       "      <td>0.002633</td>\n",
       "    </tr>\n",
       "    <tr>\n",
       "      <th>15</th>\n",
       "      <td>-1.331611</td>\n",
       "      <td>0.31</td>\n",
       "      <td>0.273134</td>\n",
       "      <td>0.001359</td>\n",
       "    </tr>\n",
       "    <tr>\n",
       "      <th>16</th>\n",
       "      <td>-1.275242</td>\n",
       "      <td>0.33</td>\n",
       "      <td>0.321025</td>\n",
       "      <td>0.000081</td>\n",
       "    </tr>\n",
       "    <tr>\n",
       "      <th>17</th>\n",
       "      <td>-1.231882</td>\n",
       "      <td>0.35</td>\n",
       "      <td>0.355096</td>\n",
       "      <td>0.000026</td>\n",
       "    </tr>\n",
       "    <tr>\n",
       "      <th>18</th>\n",
       "      <td>-1.218363</td>\n",
       "      <td>0.37</td>\n",
       "      <td>0.365242</td>\n",
       "      <td>0.000023</td>\n",
       "    </tr>\n",
       "    <tr>\n",
       "      <th>19</th>\n",
       "      <td>-1.201345</td>\n",
       "      <td>0.39</td>\n",
       "      <td>0.377697</td>\n",
       "      <td>0.000151</td>\n",
       "    </tr>\n",
       "    <tr>\n",
       "      <th>20</th>\n",
       "      <td>-1.192121</td>\n",
       "      <td>0.41</td>\n",
       "      <td>0.384303</td>\n",
       "      <td>0.000660</td>\n",
       "    </tr>\n",
       "    <tr>\n",
       "      <th>21</th>\n",
       "      <td>-1.145081</td>\n",
       "      <td>0.43</td>\n",
       "      <td>0.416426</td>\n",
       "      <td>0.000184</td>\n",
       "    </tr>\n",
       "    <tr>\n",
       "      <th>22</th>\n",
       "      <td>-1.131515</td>\n",
       "      <td>0.45</td>\n",
       "      <td>0.425215</td>\n",
       "      <td>0.000614</td>\n",
       "    </tr>\n",
       "    <tr>\n",
       "      <th>23</th>\n",
       "      <td>-1.129012</td>\n",
       "      <td>0.47</td>\n",
       "      <td>0.426814</td>\n",
       "      <td>0.001865</td>\n",
       "    </tr>\n",
       "    <tr>\n",
       "      <th>24</th>\n",
       "      <td>-1.117230</td>\n",
       "      <td>0.49</td>\n",
       "      <td>0.434245</td>\n",
       "      <td>0.003109</td>\n",
       "    </tr>\n",
       "    <tr>\n",
       "      <th>25</th>\n",
       "      <td>-1.050118</td>\n",
       "      <td>0.51</td>\n",
       "      <td>0.473664</td>\n",
       "      <td>0.001320</td>\n",
       "    </tr>\n",
       "    <tr>\n",
       "      <th>26</th>\n",
       "      <td>-1.018668</td>\n",
       "      <td>0.53</td>\n",
       "      <td>0.490491</td>\n",
       "      <td>0.001561</td>\n",
       "    </tr>\n",
       "    <tr>\n",
       "      <th>27</th>\n",
       "      <td>-0.988951</td>\n",
       "      <td>0.55</td>\n",
       "      <td>0.505464</td>\n",
       "      <td>0.001983</td>\n",
       "    </tr>\n",
       "    <tr>\n",
       "      <th>28</th>\n",
       "      <td>-0.618088</td>\n",
       "      <td>0.57</td>\n",
       "      <td>0.627312</td>\n",
       "      <td>0.003285</td>\n",
       "    </tr>\n",
       "    <tr>\n",
       "      <th>29</th>\n",
       "      <td>-0.293073</td>\n",
       "      <td>0.59</td>\n",
       "      <td>0.662471</td>\n",
       "      <td>0.005252</td>\n",
       "    </tr>\n",
       "    <tr>\n",
       "      <th>30</th>\n",
       "      <td>0.451759</td>\n",
       "      <td>0.61</td>\n",
       "      <td>0.682033</td>\n",
       "      <td>0.005189</td>\n",
       "    </tr>\n",
       "    <tr>\n",
       "      <th>31</th>\n",
       "      <td>0.454313</td>\n",
       "      <td>0.63</td>\n",
       "      <td>0.682295</td>\n",
       "      <td>0.002735</td>\n",
       "    </tr>\n",
       "    <tr>\n",
       "      <th>32</th>\n",
       "      <td>0.597958</td>\n",
       "      <td>0.65</td>\n",
       "      <td>0.702300</td>\n",
       "      <td>0.002735</td>\n",
       "    </tr>\n",
       "    <tr>\n",
       "      <th>33</th>\n",
       "      <td>0.774126</td>\n",
       "      <td>0.67</td>\n",
       "      <td>0.743985</td>\n",
       "      <td>0.005474</td>\n",
       "    </tr>\n",
       "    <tr>\n",
       "      <th>34</th>\n",
       "      <td>0.783042</td>\n",
       "      <td>0.69</td>\n",
       "      <td>0.746688</td>\n",
       "      <td>0.003213</td>\n",
       "    </tr>\n",
       "    <tr>\n",
       "      <th>35</th>\n",
       "      <td>0.831124</td>\n",
       "      <td>0.71</td>\n",
       "      <td>0.762352</td>\n",
       "      <td>0.002741</td>\n",
       "    </tr>\n",
       "    <tr>\n",
       "      <th>36</th>\n",
       "      <td>0.847067</td>\n",
       "      <td>0.73</td>\n",
       "      <td>0.767965</td>\n",
       "      <td>0.001441</td>\n",
       "    </tr>\n",
       "    <tr>\n",
       "      <th>37</th>\n",
       "      <td>0.850077</td>\n",
       "      <td>0.75</td>\n",
       "      <td>0.769049</td>\n",
       "      <td>0.000363</td>\n",
       "    </tr>\n",
       "    <tr>\n",
       "      <th>38</th>\n",
       "      <td>0.947834</td>\n",
       "      <td>0.77</td>\n",
       "      <td>0.808588</td>\n",
       "      <td>0.001489</td>\n",
       "    </tr>\n",
       "    <tr>\n",
       "      <th>39</th>\n",
       "      <td>1.009084</td>\n",
       "      <td>0.79</td>\n",
       "      <td>0.837917</td>\n",
       "      <td>0.002296</td>\n",
       "    </tr>\n",
       "    <tr>\n",
       "      <th>40</th>\n",
       "      <td>1.047970</td>\n",
       "      <td>0.81</td>\n",
       "      <td>0.858487</td>\n",
       "      <td>0.002351</td>\n",
       "    </tr>\n",
       "    <tr>\n",
       "      <th>41</th>\n",
       "      <td>1.076145</td>\n",
       "      <td>0.83</td>\n",
       "      <td>0.874379</td>\n",
       "      <td>0.001969</td>\n",
       "    </tr>\n",
       "    <tr>\n",
       "      <th>42</th>\n",
       "      <td>1.079942</td>\n",
       "      <td>0.85</td>\n",
       "      <td>0.876585</td>\n",
       "      <td>0.000707</td>\n",
       "    </tr>\n",
       "    <tr>\n",
       "      <th>43</th>\n",
       "      <td>1.086800</td>\n",
       "      <td>0.87</td>\n",
       "      <td>0.880609</td>\n",
       "      <td>0.000113</td>\n",
       "    </tr>\n",
       "    <tr>\n",
       "      <th>44</th>\n",
       "      <td>1.108762</td>\n",
       "      <td>0.89</td>\n",
       "      <td>0.893843</td>\n",
       "      <td>0.000015</td>\n",
       "    </tr>\n",
       "    <tr>\n",
       "      <th>45</th>\n",
       "      <td>1.128187</td>\n",
       "      <td>0.91</td>\n",
       "      <td>0.905994</td>\n",
       "      <td>0.000016</td>\n",
       "    </tr>\n",
       "    <tr>\n",
       "      <th>46</th>\n",
       "      <td>1.139351</td>\n",
       "      <td>0.93</td>\n",
       "      <td>0.913169</td>\n",
       "      <td>0.000283</td>\n",
       "    </tr>\n",
       "    <tr>\n",
       "      <th>47</th>\n",
       "      <td>1.180972</td>\n",
       "      <td>0.95</td>\n",
       "      <td>0.941183</td>\n",
       "      <td>0.000078</td>\n",
       "    </tr>\n",
       "    <tr>\n",
       "      <th>48</th>\n",
       "      <td>1.190481</td>\n",
       "      <td>0.97</td>\n",
       "      <td>0.947867</td>\n",
       "      <td>0.000490</td>\n",
       "    </tr>\n",
       "    <tr>\n",
       "      <th>49</th>\n",
       "      <td>1.199690</td>\n",
       "      <td>0.99</td>\n",
       "      <td>0.954443</td>\n",
       "      <td>0.001264</td>\n",
       "    </tr>\n",
       "  </tbody>\n",
       "</table>\n",
       "</div>"
      ],
      "text/plain": [
       "       $y_i$  $F_n$       $F$  $\\delta$\n",
       "0  -1.549425   0.01  0.046712  0.001348\n",
       "1  -1.541587   0.03  0.056072  0.000680\n",
       "2  -1.527998   0.05  0.072078  0.000487\n",
       "3  -1.515862   0.07  0.086133  0.000260\n",
       "4  -1.504869   0.09  0.098671  0.000075\n",
       "5  -1.499040   0.11  0.105246  0.000023\n",
       "6  -1.498739   0.13  0.105584  0.000596\n",
       "7  -1.496837   0.15  0.107717  0.001788\n",
       "8  -1.484811   0.17  0.121081  0.002393\n",
       "9  -1.464539   0.19  0.143125  0.002197\n",
       "10 -1.457399   0.21  0.150745  0.003511\n",
       "11 -1.439916   0.23  0.169089  0.003710\n",
       "12 -1.432460   0.25  0.176780  0.005361\n",
       "13 -1.392623   0.27  0.216525  0.002860\n",
       "14 -1.369387   0.29  0.238683  0.002633\n",
       "15 -1.331611   0.31  0.273134  0.001359\n",
       "16 -1.275242   0.33  0.321025  0.000081\n",
       "17 -1.231882   0.35  0.355096  0.000026\n",
       "18 -1.218363   0.37  0.365242  0.000023\n",
       "19 -1.201345   0.39  0.377697  0.000151\n",
       "20 -1.192121   0.41  0.384303  0.000660\n",
       "21 -1.145081   0.43  0.416426  0.000184\n",
       "22 -1.131515   0.45  0.425215  0.000614\n",
       "23 -1.129012   0.47  0.426814  0.001865\n",
       "24 -1.117230   0.49  0.434245  0.003109\n",
       "25 -1.050118   0.51  0.473664  0.001320\n",
       "26 -1.018668   0.53  0.490491  0.001561\n",
       "27 -0.988951   0.55  0.505464  0.001983\n",
       "28 -0.618088   0.57  0.627312  0.003285\n",
       "29 -0.293073   0.59  0.662471  0.005252\n",
       "30  0.451759   0.61  0.682033  0.005189\n",
       "31  0.454313   0.63  0.682295  0.002735\n",
       "32  0.597958   0.65  0.702300  0.002735\n",
       "33  0.774126   0.67  0.743985  0.005474\n",
       "34  0.783042   0.69  0.746688  0.003213\n",
       "35  0.831124   0.71  0.762352  0.002741\n",
       "36  0.847067   0.73  0.767965  0.001441\n",
       "37  0.850077   0.75  0.769049  0.000363\n",
       "38  0.947834   0.77  0.808588  0.001489\n",
       "39  1.009084   0.79  0.837917  0.002296\n",
       "40  1.047970   0.81  0.858487  0.002351\n",
       "41  1.076145   0.83  0.874379  0.001969\n",
       "42  1.079942   0.85  0.876585  0.000707\n",
       "43  1.086800   0.87  0.880609  0.000113\n",
       "44  1.108762   0.89  0.893843  0.000015\n",
       "45  1.128187   0.91  0.905994  0.000016\n",
       "46  1.139351   0.93  0.913169  0.000283\n",
       "47  1.180972   0.95  0.941183  0.000078\n",
       "48  1.190481   0.97  0.947867  0.000490\n",
       "49  1.199690   0.99  0.954443  0.001264"
      ]
     },
     "execution_count": 21,
     "metadata": {},
     "output_type": "execute_result"
    }
   ],
   "source": [
    "Fn = []\n",
    "F = []\n",
    "squared_deviation = []\n",
    "\n",
    "for i in range(1,n+1):\n",
    "    Fn.append((i - 0.5) / n)\n",
    "    F.append(((Y[i-1])**3+4)/6.)\n",
    "    squared_deviation.append((Fn[i-1] - F[i-1])**2)\n",
    "\n",
    "table = pd.DataFrame(data={\"$y_i$\": Y, \"$F_n$\": Fn, \"$F$\": F, \"$\\delta$\": squared_deviation})\n",
    "table"
   ]
  },
  {
   "cell_type": "markdown",
   "metadata": {},
   "source": [
    "Фактическое значение статистики:"
   ]
  },
  {
   "cell_type": "code",
   "execution_count": 22,
   "metadata": {},
   "outputs": [
    {
     "name": "stdout",
     "output_type": "stream",
     "text": [
      "0.08602492494960587\n"
     ]
    }
   ],
   "source": [
    "print(1. / (12 * n) + sum(squared_deviation))"
   ]
  },
  {
   "cell_type": "markdown",
   "metadata": {},
   "source": [
    "Критическое значение статистики Мизеса на уровне значимости $\\alpha=0.05$ по таблице равно $n\\sigma^2_{\\alpha}=0.461$."
   ]
  },
  {
   "cell_type": "markdown",
   "metadata": {},
   "source": [
    "Получили, что фактическое значение меньше критического. Значит, гипотеза не противоречит имеющимся данным"
   ]
  },
  {
   "cell_type": "code",
   "execution_count": null,
   "metadata": {},
   "outputs": [],
   "source": []
  }
 ],
 "metadata": {
  "kernelspec": {
   "display_name": "Python 3",
   "language": "python",
   "name": "python3"
  },
  "language_info": {
   "codemirror_mode": {
    "name": "ipython",
    "version": 3
   },
   "file_extension": ".py",
   "mimetype": "text/x-python",
   "name": "python",
   "nbconvert_exporter": "python",
   "pygments_lexer": "ipython3",
   "version": "3.7.2"
  }
 },
 "nbformat": 4,
 "nbformat_minor": 4
}
