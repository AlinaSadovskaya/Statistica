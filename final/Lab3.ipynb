{
 "cells": [
  {
   "cell_type": "code",
   "execution_count": 23,
   "metadata": {},
   "outputs": [],
   "source": [
    "import numpy as np\n",
    "import pandas as pd\n",
    "import matplotlib.pyplot as plt\n",
    "import scipy.stats as sts\n",
    "from statsmodels.distributions.empirical_distribution import ECDF"
   ]
  },
  {
   "cell_type": "code",
   "execution_count": 24,
   "metadata": {},
   "outputs": [],
   "source": [
    "# b = 2, a =-4\n",
    "a = -4.\n",
    "b = 2."
   ]
  },
  {
   "cell_type": "code",
   "execution_count": 25,
   "metadata": {},
   "outputs": [],
   "source": [
    "def sample(n):\n",
    "    X = []\n",
    "    Y = []\n",
    "    # Формируем однородную непрерывную случайную величину.\n",
    "    random_variable = sts.uniform()\n",
    "    # Генерируем случайные числа\n",
    "    xi = random_variable.rvs(size=n)\n",
    "    # X_i = e_i(b - a) + a\n",
    "    for i in range(n):\n",
    "        x = xi[i] * (b - a) + a\n",
    "        X.append(x)\n",
    "        if x < 0:\n",
    "            y = - (abs(x))**(1/3)\n",
    "        else:\n",
    "            y = x**(1/3)\n",
    "        Y.append(y)\n",
    "    return Y"
   ]
  },
  {
   "cell_type": "markdown",
   "metadata": {},
   "source": [
    "## Задание 1)\n",
    "Критерий Пирсона"
   ]
  },
  {
   "cell_type": "markdown",
   "metadata": {},
   "source": [
    "Формируем выборку из 200 случайных чисел"
   ]
  },
  {
   "cell_type": "code",
   "execution_count": 141,
   "metadata": {},
   "outputs": [],
   "source": [
    "n = 200\n",
    "Y = sample(n)"
   ]
  },
  {
   "cell_type": "code",
   "execution_count": 142,
   "metadata": {},
   "outputs": [
    {
     "name": "stdout",
     "output_type": "stream",
     "text": [
      "[-1.3741835932569881, -0.9978012159333324, -1.39361782337593, 1.2421794938802657, 0.5294481735573293, -1.5072425618317735, -1.1282923983872974, 0.6116371807444828, -1.4014202381026843, -0.950625653362566, 0.8268432784413774, 1.2425185747430945, -0.8093637189686057, -1.2120982151773825, 0.45080974555733994, 0.5170870241638414, -1.4804597571330997, -1.3405145679659165, -0.9135147364864801, -1.3964049708627877, -1.1744532107710792, 0.9540531928382681, -1.2472475312214284, 1.226033941176705, 1.1230820991759916, -1.1088471084546063, 0.7700187238931905, 0.7117991568933215, -1.2641901375674227, -1.5685319995233697, 0.5633334849352636, -1.5420294778356016, -1.5841379376424818, -1.5046799382520715, -1.559235471749465, 0.897734635672799, 1.0725918825197853, -1.19344832366081, -1.5302821690662172, -0.7373382112034177, 0.907242361736568, -0.6287895350324456, 1.1090801737569418, 1.1825908029933712, 1.1745652485273417, -1.1949929567291633, -1.0015468101452638, -1.4347465440106202, -0.8366874371365719, -1.3545477368196217, 1.2471018130228844, 1.1735996165861537, -1.333734052464062, 0.8347132478758711, 1.0774585503540566, 0.9330517002985562, -0.9465828134322123, -1.2074573750865245, 1.2023342545780498, 1.1646270662143496, 0.4359617751281519, -1.156457401010713, -0.9486882294795405, -0.7294246380890905, -1.236981833074768, -1.268100479480229, -1.584579743171746, -1.3972557459445578, -1.3397757609836425, 1.014768919785635, 0.9701588509873026, -1.4399222994877094, -1.0563983987176466, -1.1128443986735301, -1.448563266029354, 0.4749996741300039, -1.1091649404045927, 1.0177558473309682, 0.7264125378203169, -1.3758259281731715, -1.4055146285127984, -1.3900574896106737, 0.793635089585016, 1.2018385824583528, 1.1672528842528644, 0.6631825740381244, -1.2070621762847658, -1.1695104738955715, -1.0400767268050677, -1.1264638283306085, -1.3126321410019937, 1.1150999319852588, 0.7563324410558104, -0.2454766678121083, -1.5723357930433424, 1.2401884290223293, 0.6950009816629031, 1.0964659083994484, -0.70436524908435, -1.2602499244119487, -1.2611222278233256, -1.0123225430327496, -1.4646919283065412, -1.4420990674293035, -1.4831679077784072, -1.2809350414199767, -0.9541310422081674, 0.7585227032229704, 0.6547764657949592, -0.7060796793148628, -1.4378161740596749, -0.8058490263089126, -0.9860384903689992, 0.5918513760055334, -1.474595533827851, -0.9364861378278386, -1.4313834324794843, 0.2797202333190679, 0.6551403754569127, 1.1264560955916205, 1.1541874939697832, -1.273211613416035, -1.485036020874617, 1.1378703765816756, -1.367193241234103, 0.6237030991796529, -0.7199364020370688, 0.987791453207503, 0.9256069995405289, -1.3386102437658478, -1.0317725583333788, 0.5852925851369267, -0.4423023583382221, -1.3275936826970083, -1.5573445288279375, 0.8324011827116612, -1.3154376424612382, -1.3732645746364556, 0.4209280845057507, -1.3164442565575964, -0.7722465658781333, 0.9161133034637594, 1.2392385851777175, -1.235810547517306, -1.0376377575039866, -1.4138881091587427, -1.2867273830563817, -1.4738049449257917, -0.6409352186566367, -0.9877607460967534, -1.5276721403659606, -1.4111451085562199, -1.2031105804429567, 1.2045191896082368, -1.1476149617538254, -1.1561457318259711, 0.6669357273204817, -1.030874018338386, -1.3401529241016856, 1.1901169044352904, -1.2609274683802798, -1.2118608411138658, -1.5770449904740187, -1.3987026634448878, 1.2413512856205293, 0.9800206216598721, 0.9333787248193729, 1.1227873403299946, -1.047193653176609, -1.365567644203542, -1.1233467881132149, -1.4838110002242173, 0.8394539833427359, -1.1183096008646864, 1.0043289198295708, 0.9803939550075337, -1.5191719560715806, 0.3590779473693027, -1.3611187654155765, 1.2291876116523837, -1.4079376180401966, 1.0344764717463588, -1.2804306882523835, -1.5744520455551485, -1.4207415943082813, 0.8080147047881651, 0.7228713401060769, -1.2905048748378767, -0.9472158246112282, 1.2091510251719193, 1.0906639375718217, -1.0580777480644623, 0.8621733987734409, -0.38121889443515317, 1.0934943251837572, 1.256130828850271, 1.109915231308336, 1.253956289463245, -1.4974855727888488, -0.9633857269270711]\n"
     ]
    }
   ],
   "source": [
    "print(Y)"
   ]
  },
  {
   "cell_type": "markdown",
   "metadata": {},
   "source": [
    "Cтроим гистограмму равновероятностным способом:"
   ]
  },
  {
   "cell_type": "code",
   "execution_count": 174,
   "metadata": {},
   "outputs": [],
   "source": [
    "#определяем колво интервалов\n",
    "if n <= 100:\n",
    "    M = int(np.sqrt(n))\n",
    "else:\n",
    "    M = int(2 * np.log10(n))"
   ]
  },
  {
   "cell_type": "code",
   "execution_count": 175,
   "metadata": {},
   "outputs": [],
   "source": [
    "\n",
    "while(True):\n",
    "    if (n - (n // M) * M) <= 5:\n",
    "        m = n // M\n",
    "        break\n",
    "    else:\n",
    "        M += 1\n",
    "\n",
    "def equal_probability(sample):\n",
    "    sample.sort()\n",
    "    A = np.zeros(M)\n",
    "    B = np.zeros(M)\n",
    "    \n",
    "    A[0] = sample[0]\n",
    "    B[-1] = sample[-1]\n",
    "    for i in range(1, M):\n",
    "        A[i] = (sample[m * i] + sample[m * i + 1]) / 2\n",
    "        B[i - 1] = A[i]\n",
    "    delta = []\n",
    "    for i in range(len(A)):\n",
    "        delta.append(B[i] - A[i])\n",
    "    f_x = []\n",
    "    x = []\n",
    "    s = A[0]\n",
    " \n",
    "    for i in delta:\n",
    "        f_x.append(1. /(M * i))\n",
    "        x.append(s)\n",
    "        s += i\n",
    "        \n",
    "    return (x, f_x, A, B, delta)"
   ]
  },
  {
   "cell_type": "code",
   "execution_count": 176,
   "metadata": {},
   "outputs": [
    {
     "data": {
      "text/html": [
       "<div>\n",
       "<style scoped>\n",
       "    .dataframe tbody tr th:only-of-type {\n",
       "        vertical-align: middle;\n",
       "    }\n",
       "\n",
       "    .dataframe tbody tr th {\n",
       "        vertical-align: top;\n",
       "    }\n",
       "\n",
       "    .dataframe thead th {\n",
       "        text-align: right;\n",
       "    }\n",
       "</style>\n",
       "<table border=\"1\" class=\"dataframe\">\n",
       "  <thead>\n",
       "    <tr style=\"text-align: right;\">\n",
       "      <th></th>\n",
       "      <th>$A_i$</th>\n",
       "      <th>$B_i$</th>\n",
       "      <th>$delta_i$</th>\n",
       "      <th>$v_i$</th>\n",
       "      <th>$f_i$</th>\n",
       "    </tr>\n",
       "  </thead>\n",
       "  <tbody>\n",
       "    <tr>\n",
       "      <th>0</th>\n",
       "      <td>-1.584580</td>\n",
       "      <td>-1.330664</td>\n",
       "      <td>0.253916</td>\n",
       "      <td>50</td>\n",
       "      <td>0.984578</td>\n",
       "    </tr>\n",
       "    <tr>\n",
       "      <th>1</th>\n",
       "      <td>-1.330664</td>\n",
       "      <td>-0.952378</td>\n",
       "      <td>0.378286</td>\n",
       "      <td>50</td>\n",
       "      <td>0.660876</td>\n",
       "    </tr>\n",
       "    <tr>\n",
       "      <th>2</th>\n",
       "      <td>-0.952378</td>\n",
       "      <td>0.850814</td>\n",
       "      <td>1.803192</td>\n",
       "      <td>50</td>\n",
       "      <td>0.138643</td>\n",
       "    </tr>\n",
       "    <tr>\n",
       "      <th>3</th>\n",
       "      <td>0.850814</td>\n",
       "      <td>1.256131</td>\n",
       "      <td>0.405317</td>\n",
       "      <td>50</td>\n",
       "      <td>0.616801</td>\n",
       "    </tr>\n",
       "  </tbody>\n",
       "</table>\n",
       "</div>"
      ],
      "text/plain": [
       "      $A_i$     $B_i$  $delta_i$  $v_i$     $f_i$\n",
       "0 -1.584580 -1.330664   0.253916     50  0.984578\n",
       "1 -1.330664 -0.952378   0.378286     50  0.660876\n",
       "2 -0.952378  0.850814   1.803192     50  0.138643\n",
       "3  0.850814  1.256131   0.405317     50  0.616801"
      ]
     },
     "execution_count": 176,
     "metadata": {},
     "output_type": "execute_result"
    }
   ],
   "source": [
    "x, f_x, A, B, delta = equal_probability(Y)\n",
    "table = pd.DataFrame(data={\"$A_i$\" : A, \"$B_i$\": B, \"$delta_i$\": delta, \"$v_i$\": [m]*len(f_x), \"$f_i$\": f_x})\n",
    "table"
   ]
  },
  {
   "cell_type": "markdown",
   "metadata": {},
   "source": [
    "Находим теоретическую плотность распределения:"
   ]
  },
  {
   "cell_type": "code",
   "execution_count": 177,
   "metadata": {},
   "outputs": [],
   "source": [
    "x_teor = np.linspace(-(4)**(1/3), 2**(1/3), 100)\n",
    "f_y = []\n",
    "for xi in x_teor:\n",
    "    f_y.append(1/2*xi**2) # теоретическая плотность распределения"
   ]
  },
  {
   "cell_type": "code",
   "execution_count": 178,
   "metadata": {},
   "outputs": [
    {
     "data": {
      "image/png": "[encoded data removed]",
      "text/plain": [
       "<Figure size 432x288 with 1 Axes>"
      ]
     },
     "metadata": {
      "needs_background": "light"
     },
     "output_type": "display_data"
    }
   ],
   "source": [
    "plt.fill_between(x, y1=f_x, y2=[0]*len(f_x), color='b', step='post', alpha=0.5, label=\"Histogram\")\n",
    "plt.plot(x_teor, f_y, label='Theoretical distribution density', c='r')\n",
    "nx = []\n",
    "for i in range(len(x) - 1):\n",
    "    nx.append((x[i] + x[i+1]) / 2)\n",
    "plt.plot(nx, f_x[:-1], color='g', label='Empirical distribution density')\n",
    "plt.legend()\n",
    "plt.xlabel(\"y\")\n",
    "plt.ylabel(\"f(Y)\")\n",
    "plt.show()"
   ]
  },
  {
   "cell_type": "markdown",
   "metadata": {},
   "source": [
    "Выдвинем гипотезу H0, что наши эмпирическое и теоретическое распределения совпадают."
   ]
  },
  {
   "cell_type": "markdown",
   "metadata": {},
   "source": [
    "\n",
    "Рассчитаем теоретическую вероятность попадания случайной величины в $i$-й интервал при условии, что гипотеза верна"
   ]
  },
  {
   "cell_type": "markdown",
   "metadata": {},
   "source": [
    "$$p_i=F(B_i)-F(A_i) = \\big(\\frac{1}{6}((B_i)^3+4)-\\frac{1}{6}((A_i)^3+4)\\big)=\\frac{1}{6}((B_i)^3-(A_i)^3)$$"
   ]
  },
  {
   "cell_type": "code",
   "execution_count": 179,
   "metadata": {},
   "outputs": [],
   "source": [
    "p_teor = []\n",
    "pi = [m / n] * M\n",
    "F_in_B = []\n",
    "F_in_A = []\n",
    "for i in range(len(A)):\n",
    "    F_Ai = 1./6. * ((A[i])**3+4)\n",
    "    F_Bi = 1./6. * ((B[i])**3+4)\n",
    "    F_in_A.append(F_Ai)\n",
    "    F_in_B.append(F_Bi)\n",
    "    p_teor.append(F_Bi - F_Ai)"
   ]
  },
  {
   "cell_type": "markdown",
   "metadata": {},
   "source": [
    "Найдем значение критерия $\\chi^2$:"
   ]
  },
  {
   "cell_type": "code",
   "execution_count": 180,
   "metadata": {},
   "outputs": [
    {
     "name": "stdout",
     "output_type": "stream",
     "text": [
      "xi =  0.756489671076596\n"
     ]
    }
   ],
   "source": [
    "xi = []\n",
    "for i in range(M):\n",
    "    xi.append(n * (p_teor[i] - pi[i])**2 / p_teor[i])\n",
    "print(\"xi = \" , sum(xi))"
   ]
  },
  {
   "cell_type": "code",
   "execution_count": 181,
   "metadata": {},
   "outputs": [
    {
     "name": "stdout",
     "output_type": "stream",
     "text": [
      "1.0\n"
     ]
    }
   ],
   "source": [
    "sum_pi = sum(pi)\n",
    "print(sum_pi)"
   ]
  },
  {
   "cell_type": "code",
   "execution_count": 182,
   "metadata": {},
   "outputs": [
    {
     "data": {
      "text/html": [
       "<div>\n",
       "<style scoped>\n",
       "    .dataframe tbody tr th:only-of-type {\n",
       "        vertical-align: middle;\n",
       "    }\n",
       "\n",
       "    .dataframe tbody tr th {\n",
       "        vertical-align: top;\n",
       "    }\n",
       "\n",
       "    .dataframe thead th {\n",
       "        text-align: right;\n",
       "    }\n",
       "</style>\n",
       "<table border=\"1\" class=\"dataframe\">\n",
       "  <thead>\n",
       "    <tr style=\"text-align: right;\">\n",
       "      <th></th>\n",
       "      <th>$F(A_i)$</th>\n",
       "      <th>$F(B_i)$</th>\n",
       "      <th>$p_i$</th>\n",
       "      <th>$p_i^*$</th>\n",
       "      <th>$\\chi_i$</th>\n",
       "    </tr>\n",
       "  </thead>\n",
       "  <tbody>\n",
       "    <tr>\n",
       "      <th>0</th>\n",
       "      <td>0.003548</td>\n",
       "      <td>0.273973</td>\n",
       "      <td>0.270425</td>\n",
       "      <td>0.25</td>\n",
       "      <td>0.308529</td>\n",
       "    </tr>\n",
       "    <tr>\n",
       "      <th>1</th>\n",
       "      <td>0.273973</td>\n",
       "      <td>0.522695</td>\n",
       "      <td>0.248722</td>\n",
       "      <td>0.25</td>\n",
       "      <td>0.001314</td>\n",
       "    </tr>\n",
       "    <tr>\n",
       "      <th>2</th>\n",
       "      <td>0.522695</td>\n",
       "      <td>0.769315</td>\n",
       "      <td>0.246620</td>\n",
       "      <td>0.25</td>\n",
       "      <td>0.009264</td>\n",
       "    </tr>\n",
       "    <tr>\n",
       "      <th>3</th>\n",
       "      <td>0.769315</td>\n",
       "      <td>0.997001</td>\n",
       "      <td>0.227686</td>\n",
       "      <td>0.25</td>\n",
       "      <td>0.437383</td>\n",
       "    </tr>\n",
       "  </tbody>\n",
       "</table>\n",
       "</div>"
      ],
      "text/plain": [
       "   $F(A_i)$  $F(B_i)$     $p_i$  $p_i^*$  $\\chi_i$\n",
       "0  0.003548  0.273973  0.270425     0.25  0.308529\n",
       "1  0.273973  0.522695  0.248722     0.25  0.001314\n",
       "2  0.522695  0.769315  0.246620     0.25  0.009264\n",
       "3  0.769315  0.997001  0.227686     0.25  0.437383"
      ]
     },
     "execution_count": 182,
     "metadata": {},
     "output_type": "execute_result"
    }
   ],
   "source": [
    "table2 = pd.DataFrame(data={\"$F(A_i)$\" : F_in_A, \"$F(B_i)$\": F_in_B, \"$p_i$\": p_teor, \"$p_i^*$\": pi, \"$\\chi_i$\": xi})\n",
    "table2"
   ]
  },
  {
   "cell_type": "code",
   "execution_count": 183,
   "metadata": {},
   "outputs": [
    {
     "name": "stdout",
     "output_type": "stream",
     "text": [
      "k =  1\n"
     ]
    }
   ],
   "source": [
    "k = M - 3\n",
    "print(\"k = \" , k)"
   ]
  },
  {
   "cell_type": "markdown",
   "metadata": {},
   "source": [
    "$\\chi_{0.01, 1}=13.28$ , $\\chi_{0.99, 1}=0.297$"
   ]
  },
  {
   "cell_type": "markdown",
   "metadata": {},
   "source": [
    "Так как $\\chi_{0.01, 8}$ < $\\chi$ < $\\chi_{0.99, 8}$, то нет оснований отвергать гипотезу $H_0$"
   ]
  },
  {
   "cell_type": "markdown",
   "metadata": {},
   "source": [
    "##  Задание 2) \n",
    "критерий Колмогорова"
   ]
  },
  {
   "cell_type": "code",
   "execution_count": 38,
   "metadata": {},
   "outputs": [],
   "source": [
    "n = 30\n",
    "Y = sample(n)\n",
    "    \n",
    "Y.sort()"
   ]
  },
  {
   "cell_type": "markdown",
   "metadata": {},
   "source": [
    "Строим вариационный ряд:"
   ]
  },
  {
   "cell_type": "code",
   "execution_count": 39,
   "metadata": {},
   "outputs": [
    {
     "data": {
      "text/html": [
       "<div>\n",
       "<style scoped>\n",
       "    .dataframe tbody tr th:only-of-type {\n",
       "        vertical-align: middle;\n",
       "    }\n",
       "\n",
       "    .dataframe tbody tr th {\n",
       "        vertical-align: top;\n",
       "    }\n",
       "\n",
       "    .dataframe thead th {\n",
       "        text-align: right;\n",
       "    }\n",
       "</style>\n",
       "<table border=\"1\" class=\"dataframe\">\n",
       "  <thead>\n",
       "    <tr style=\"text-align: right;\">\n",
       "      <th></th>\n",
       "      <th>0</th>\n",
       "      <th>1</th>\n",
       "      <th>2</th>\n",
       "      <th>3</th>\n",
       "      <th>4</th>\n",
       "      <th>5</th>\n",
       "      <th>6</th>\n",
       "      <th>7</th>\n",
       "      <th>8</th>\n",
       "      <th>9</th>\n",
       "      <th>...</th>\n",
       "      <th>20</th>\n",
       "      <th>21</th>\n",
       "      <th>22</th>\n",
       "      <th>23</th>\n",
       "      <th>24</th>\n",
       "      <th>25</th>\n",
       "      <th>26</th>\n",
       "      <th>27</th>\n",
       "      <th>28</th>\n",
       "      <th>29</th>\n",
       "    </tr>\n",
       "  </thead>\n",
       "  <tbody>\n",
       "    <tr>\n",
       "      <th>$Y_i$</th>\n",
       "      <td>-1.576909</td>\n",
       "      <td>-1.555536</td>\n",
       "      <td>-1.482709</td>\n",
       "      <td>-1.464098</td>\n",
       "      <td>-1.422189</td>\n",
       "      <td>-1.414881</td>\n",
       "      <td>-1.405358</td>\n",
       "      <td>-1.348241</td>\n",
       "      <td>-1.248168</td>\n",
       "      <td>-1.224615</td>\n",
       "      <td>...</td>\n",
       "      <td>-0.599943</td>\n",
       "      <td>-0.578492</td>\n",
       "      <td>-0.487615</td>\n",
       "      <td>0.668893</td>\n",
       "      <td>0.804145</td>\n",
       "      <td>0.891474</td>\n",
       "      <td>0.911968</td>\n",
       "      <td>1.086176</td>\n",
       "      <td>1.093826</td>\n",
       "      <td>1.153755</td>\n",
       "    </tr>\n",
       "  </tbody>\n",
       "</table>\n",
       "<p>1 rows × 30 columns</p>\n",
       "</div>"
      ],
      "text/plain": [
       "             0         1         2         3         4         5         6   \\\n",
       "$Y_i$ -1.576909 -1.555536 -1.482709 -1.464098 -1.422189 -1.414881 -1.405358   \n",
       "\n",
       "             7         8         9   ...        20        21        22  \\\n",
       "$Y_i$ -1.348241 -1.248168 -1.224615  ... -0.599943 -0.578492 -0.487615   \n",
       "\n",
       "             23        24        25        26        27        28        29  \n",
       "$Y_i$  0.668893  0.804145  0.891474  0.911968  1.086176  1.093826  1.153755  \n",
       "\n",
       "[1 rows x 30 columns]"
      ]
     },
     "execution_count": 39,
     "metadata": {},
     "output_type": "execute_result"
    }
   ],
   "source": [
    "variational_series = pd.DataFrame(data={\"$Y_i$\": Y})\n",
    "variational_series.T"
   ]
  },
  {
   "cell_type": "code",
   "execution_count": 92,
   "metadata": {},
   "outputs": [],
   "source": [
    "def empiric_func(sample):\n",
    "    sample_without_repeat = sorted(list(set(sample)))\n",
    "    sample_without_repeat.insert(0, -float('Inf'))\n",
    "    size = len(sample)\n",
    "    F_y = []\n",
    "    propability = 0\n",
    "    for elem in sample_without_repeat:\n",
    "        propability += sample.count(elem)/size\n",
    "        F_y.append(propability)\n",
    "    return list(sample_without_repeat), F_y"
   ]
  },
  {
   "cell_type": "markdown",
   "metadata": {},
   "source": [
    "Графики теоретической и эмпирической функций распределения"
   ]
  },
  {
   "cell_type": "code",
   "execution_count": 95,
   "metadata": {},
   "outputs": [
    {
     "data": {
      "text/plain": [
       "<matplotlib.legend.Legend at 0xf1e6e30>"
      ]
     },
     "execution_count": 95,
     "metadata": {},
     "output_type": "execute_result"
    },
    {
     "data": {
      "image/png": "[encoded data removed]",
      "text/plain": [
       "<Figure size 432x288 with 1 Axes>"
      ]
     },
     "metadata": {
      "needs_background": "light"
     },
     "output_type": "display_data"
    }
   ],
   "source": [
    "emp_x, emp_y = empiric_func(Y)\n",
    "x_teor = np.linspace(-(4)**(1/3), 2**(1/3), 100)\n",
    "y_teor = (x_teor**3 + 4) / 6 # теоретическая функция распределения\n",
    "plt.plot(x_teor, y_teor, label='Theoretical distribution function')\n",
    "plt.step(emp_x, emp_y, label='Empirical distribution function')\n",
    "plt.ylabel('F(y)')\n",
    "plt.xlabel('x')\n",
    "plt.legend()"
   ]
  },
  {
   "cell_type": "markdown",
   "metadata": {},
   "source": [
    "Определим максимальное по модулю отклонение между функциями:"
   ]
  },
  {
   "cell_type": "code",
   "execution_count": 162,
   "metadata": {},
   "outputs": [
    {
     "name": "stdout",
     "output_type": "stream",
     "text": [
      "d =  0.06531437743350665\n"
     ]
    }
   ],
   "source": [
    "d = []\n",
    "for i in range(n):\n",
    "    d.append(abs(i / n - ((Y[i])**3 + 4) / 6))\n",
    "\n",
    "d = max(d)\n",
    "print(\"d = \", d)"
   ]
  },
  {
   "cell_type": "markdown",
   "metadata": {},
   "source": [
    "Вычислим значение критерия:"
   ]
  },
  {
   "cell_type": "code",
   "execution_count": 163,
   "metadata": {},
   "outputs": [
    {
     "name": "stdout",
     "output_type": "stream",
     "text": [
      "lambda =  0.9236847838442034\n"
     ]
    }
   ],
   "source": [
    "lambd = d * np.sqrt(n)\n",
    "print(\"lambda = \", lambd)"
   ]
  },
  {
   "cell_type": "markdown",
   "metadata": {},
   "source": [
    "Из таблицы вероятностей Колмогорова выбираем критическое значение $\\lambda_y$:"
   ]
  },
  {
   "cell_type": "markdown",
   "metadata": {},
   "source": [
    "$\\gamma = 1-\\alpha = 0.95$"
   ]
  },
  {
   "cell_type": "markdown",
   "metadata": {},
   "source": [
    "$\\lambda_\\gamma$ = 1.38"
   ]
  },
  {
   "cell_type": "markdown",
   "metadata": {},
   "source": [
    " Так как 0 < $\\lambda$ < $\\lambda_\\gamma$, то гипотеза $H_0$ подтверждена"
   ]
  },
  {
   "cell_type": "markdown",
   "metadata": {},
   "source": [
    "##  Задание 3) \n",
    "критерий Мизеса"
   ]
  },
  {
   "cell_type": "code",
   "execution_count": 98,
   "metadata": {},
   "outputs": [],
   "source": [
    "n = 50\n",
    "Y = sample(n)  \n",
    "Y.sort()"
   ]
  },
  {
   "cell_type": "markdown",
   "metadata": {},
   "source": [
    "Найдем значения эмпирической функции распределения, теоретической функции распределения, значения квадрата отклонения:"
   ]
  },
  {
   "cell_type": "code",
   "execution_count": 99,
   "metadata": {},
   "outputs": [
    {
     "data": {
      "text/html": [
       "<div>\n",
       "<style scoped>\n",
       "    .dataframe tbody tr th:only-of-type {\n",
       "        vertical-align: middle;\n",
       "    }\n",
       "\n",
       "    .dataframe tbody tr th {\n",
       "        vertical-align: top;\n",
       "    }\n",
       "\n",
       "    .dataframe thead th {\n",
       "        text-align: right;\n",
       "    }\n",
       "</style>\n",
       "<table border=\"1\" class=\"dataframe\">\n",
       "  <thead>\n",
       "    <tr style=\"text-align: right;\">\n",
       "      <th></th>\n",
       "      <th>$y_i$</th>\n",
       "      <th>$F_n$</th>\n",
       "      <th>$F$</th>\n",
       "      <th>$\\delta$</th>\n",
       "    </tr>\n",
       "  </thead>\n",
       "  <tbody>\n",
       "    <tr>\n",
       "      <th>0</th>\n",
       "      <td>-1.579823</td>\n",
       "      <td>0.01</td>\n",
       "      <td>0.009502</td>\n",
       "      <td>2.482186e-07</td>\n",
       "    </tr>\n",
       "    <tr>\n",
       "      <th>1</th>\n",
       "      <td>-1.543897</td>\n",
       "      <td>0.03</td>\n",
       "      <td>0.053324</td>\n",
       "      <td>5.439972e-04</td>\n",
       "    </tr>\n",
       "    <tr>\n",
       "      <th>2</th>\n",
       "      <td>-1.498445</td>\n",
       "      <td>0.05</td>\n",
       "      <td>0.105914</td>\n",
       "      <td>3.126375e-03</td>\n",
       "    </tr>\n",
       "    <tr>\n",
       "      <th>3</th>\n",
       "      <td>-1.473366</td>\n",
       "      <td>0.07</td>\n",
       "      <td>0.133601</td>\n",
       "      <td>4.045109e-03</td>\n",
       "    </tr>\n",
       "    <tr>\n",
       "      <th>4</th>\n",
       "      <td>-1.453279</td>\n",
       "      <td>0.09</td>\n",
       "      <td>0.155108</td>\n",
       "      <td>4.238999e-03</td>\n",
       "    </tr>\n",
       "    <tr>\n",
       "      <th>5</th>\n",
       "      <td>-1.430607</td>\n",
       "      <td>0.11</td>\n",
       "      <td>0.178678</td>\n",
       "      <td>4.716688e-03</td>\n",
       "    </tr>\n",
       "    <tr>\n",
       "      <th>6</th>\n",
       "      <td>-1.429233</td>\n",
       "      <td>0.13</td>\n",
       "      <td>0.180083</td>\n",
       "      <td>2.508268e-03</td>\n",
       "    </tr>\n",
       "    <tr>\n",
       "      <th>7</th>\n",
       "      <td>-1.416044</td>\n",
       "      <td>0.15</td>\n",
       "      <td>0.193429</td>\n",
       "      <td>1.886091e-03</td>\n",
       "    </tr>\n",
       "    <tr>\n",
       "      <th>8</th>\n",
       "      <td>-1.409980</td>\n",
       "      <td>0.17</td>\n",
       "      <td>0.199483</td>\n",
       "      <td>8.692521e-04</td>\n",
       "    </tr>\n",
       "    <tr>\n",
       "      <th>9</th>\n",
       "      <td>-1.387536</td>\n",
       "      <td>0.19</td>\n",
       "      <td>0.221439</td>\n",
       "      <td>9.884345e-04</td>\n",
       "    </tr>\n",
       "    <tr>\n",
       "      <th>10</th>\n",
       "      <td>-1.370354</td>\n",
       "      <td>0.21</td>\n",
       "      <td>0.237775</td>\n",
       "      <td>7.714766e-04</td>\n",
       "    </tr>\n",
       "    <tr>\n",
       "      <th>11</th>\n",
       "      <td>-1.355803</td>\n",
       "      <td>0.23</td>\n",
       "      <td>0.251294</td>\n",
       "      <td>4.534165e-04</td>\n",
       "    </tr>\n",
       "    <tr>\n",
       "      <th>12</th>\n",
       "      <td>-1.318873</td>\n",
       "      <td>0.25</td>\n",
       "      <td>0.284320</td>\n",
       "      <td>1.177844e-03</td>\n",
       "    </tr>\n",
       "    <tr>\n",
       "      <th>13</th>\n",
       "      <td>-1.315931</td>\n",
       "      <td>0.27</td>\n",
       "      <td>0.286873</td>\n",
       "      <td>2.846840e-04</td>\n",
       "    </tr>\n",
       "    <tr>\n",
       "      <th>14</th>\n",
       "      <td>-1.314010</td>\n",
       "      <td>0.29</td>\n",
       "      <td>0.288534</td>\n",
       "      <td>2.150075e-06</td>\n",
       "    </tr>\n",
       "    <tr>\n",
       "      <th>15</th>\n",
       "      <td>-1.292926</td>\n",
       "      <td>0.31</td>\n",
       "      <td>0.306445</td>\n",
       "      <td>1.263716e-05</td>\n",
       "    </tr>\n",
       "    <tr>\n",
       "      <th>16</th>\n",
       "      <td>-1.273150</td>\n",
       "      <td>0.33</td>\n",
       "      <td>0.322723</td>\n",
       "      <td>5.295759e-05</td>\n",
       "    </tr>\n",
       "    <tr>\n",
       "      <th>17</th>\n",
       "      <td>-1.266370</td>\n",
       "      <td>0.35</td>\n",
       "      <td>0.328189</td>\n",
       "      <td>4.757293e-04</td>\n",
       "    </tr>\n",
       "    <tr>\n",
       "      <th>18</th>\n",
       "      <td>-1.208002</td>\n",
       "      <td>0.37</td>\n",
       "      <td>0.372866</td>\n",
       "      <td>8.216028e-06</td>\n",
       "    </tr>\n",
       "    <tr>\n",
       "      <th>19</th>\n",
       "      <td>-1.203430</td>\n",
       "      <td>0.39</td>\n",
       "      <td>0.376190</td>\n",
       "      <td>1.907160e-04</td>\n",
       "    </tr>\n",
       "    <tr>\n",
       "      <th>20</th>\n",
       "      <td>-1.133335</td>\n",
       "      <td>0.41</td>\n",
       "      <td>0.424048</td>\n",
       "      <td>1.973598e-04</td>\n",
       "    </tr>\n",
       "    <tr>\n",
       "      <th>21</th>\n",
       "      <td>-1.127232</td>\n",
       "      <td>0.43</td>\n",
       "      <td>0.427947</td>\n",
       "      <td>4.216705e-06</td>\n",
       "    </tr>\n",
       "    <tr>\n",
       "      <th>22</th>\n",
       "      <td>-1.126457</td>\n",
       "      <td>0.45</td>\n",
       "      <td>0.428439</td>\n",
       "      <td>4.648739e-04</td>\n",
       "    </tr>\n",
       "    <tr>\n",
       "      <th>23</th>\n",
       "      <td>-1.120446</td>\n",
       "      <td>0.47</td>\n",
       "      <td>0.432232</td>\n",
       "      <td>1.426391e-03</td>\n",
       "    </tr>\n",
       "    <tr>\n",
       "      <th>24</th>\n",
       "      <td>-1.099979</td>\n",
       "      <td>0.49</td>\n",
       "      <td>0.444846</td>\n",
       "      <td>2.038863e-03</td>\n",
       "    </tr>\n",
       "    <tr>\n",
       "      <th>25</th>\n",
       "      <td>-1.068360</td>\n",
       "      <td>0.51</td>\n",
       "      <td>0.463430</td>\n",
       "      <td>2.168767e-03</td>\n",
       "    </tr>\n",
       "    <tr>\n",
       "      <th>26</th>\n",
       "      <td>-1.028956</td>\n",
       "      <td>0.53</td>\n",
       "      <td>0.485099</td>\n",
       "      <td>2.016126e-03</td>\n",
       "    </tr>\n",
       "    <tr>\n",
       "      <th>27</th>\n",
       "      <td>-0.986668</td>\n",
       "      <td>0.55</td>\n",
       "      <td>0.506578</td>\n",
       "      <td>1.885503e-03</td>\n",
       "    </tr>\n",
       "    <tr>\n",
       "      <th>28</th>\n",
       "      <td>-0.941773</td>\n",
       "      <td>0.57</td>\n",
       "      <td>0.527451</td>\n",
       "      <td>1.810391e-03</td>\n",
       "    </tr>\n",
       "    <tr>\n",
       "      <th>29</th>\n",
       "      <td>-0.925150</td>\n",
       "      <td>0.59</td>\n",
       "      <td>0.534694</td>\n",
       "      <td>3.058772e-03</td>\n",
       "    </tr>\n",
       "    <tr>\n",
       "      <th>30</th>\n",
       "      <td>-0.867509</td>\n",
       "      <td>0.61</td>\n",
       "      <td>0.557856</td>\n",
       "      <td>2.718958e-03</td>\n",
       "    </tr>\n",
       "    <tr>\n",
       "      <th>31</th>\n",
       "      <td>-0.845182</td>\n",
       "      <td>0.63</td>\n",
       "      <td>0.566043</td>\n",
       "      <td>4.090496e-03</td>\n",
       "    </tr>\n",
       "    <tr>\n",
       "      <th>32</th>\n",
       "      <td>-0.671242</td>\n",
       "      <td>0.65</td>\n",
       "      <td>0.616260</td>\n",
       "      <td>1.138373e-03</td>\n",
       "    </tr>\n",
       "    <tr>\n",
       "      <th>33</th>\n",
       "      <td>-0.665817</td>\n",
       "      <td>0.67</td>\n",
       "      <td>0.617473</td>\n",
       "      <td>2.759128e-03</td>\n",
       "    </tr>\n",
       "    <tr>\n",
       "      <th>34</th>\n",
       "      <td>-0.418137</td>\n",
       "      <td>0.69</td>\n",
       "      <td>0.654482</td>\n",
       "      <td>1.261507e-03</td>\n",
       "    </tr>\n",
       "    <tr>\n",
       "      <th>35</th>\n",
       "      <td>0.325789</td>\n",
       "      <td>0.71</td>\n",
       "      <td>0.672430</td>\n",
       "      <td>1.411521e-03</td>\n",
       "    </tr>\n",
       "    <tr>\n",
       "      <th>36</th>\n",
       "      <td>0.770568</td>\n",
       "      <td>0.73</td>\n",
       "      <td>0.742924</td>\n",
       "      <td>1.670264e-04</td>\n",
       "    </tr>\n",
       "    <tr>\n",
       "      <th>37</th>\n",
       "      <td>0.804129</td>\n",
       "      <td>0.75</td>\n",
       "      <td>0.753328</td>\n",
       "      <td>1.107623e-05</td>\n",
       "    </tr>\n",
       "    <tr>\n",
       "      <th>38</th>\n",
       "      <td>0.826889</td>\n",
       "      <td>0.77</td>\n",
       "      <td>0.760897</td>\n",
       "      <td>8.286788e-05</td>\n",
       "    </tr>\n",
       "    <tr>\n",
       "      <th>39</th>\n",
       "      <td>0.832399</td>\n",
       "      <td>0.79</td>\n",
       "      <td>0.762793</td>\n",
       "      <td>7.402170e-04</td>\n",
       "    </tr>\n",
       "    <tr>\n",
       "      <th>40</th>\n",
       "      <td>0.847770</td>\n",
       "      <td>0.81</td>\n",
       "      <td>0.768217</td>\n",
       "      <td>1.745780e-03</td>\n",
       "    </tr>\n",
       "    <tr>\n",
       "      <th>41</th>\n",
       "      <td>1.027411</td>\n",
       "      <td>0.83</td>\n",
       "      <td>0.847418</td>\n",
       "      <td>3.033857e-04</td>\n",
       "    </tr>\n",
       "    <tr>\n",
       "      <th>42</th>\n",
       "      <td>1.034043</td>\n",
       "      <td>0.85</td>\n",
       "      <td>0.850941</td>\n",
       "      <td>8.849327e-07</td>\n",
       "    </tr>\n",
       "    <tr>\n",
       "      <th>43</th>\n",
       "      <td>1.094259</td>\n",
       "      <td>0.87</td>\n",
       "      <td>0.885045</td>\n",
       "      <td>2.263471e-04</td>\n",
       "    </tr>\n",
       "    <tr>\n",
       "      <th>44</th>\n",
       "      <td>1.119722</td>\n",
       "      <td>0.89</td>\n",
       "      <td>0.900647</td>\n",
       "      <td>1.133634e-04</td>\n",
       "    </tr>\n",
       "    <tr>\n",
       "      <th>45</th>\n",
       "      <td>1.159237</td>\n",
       "      <td>0.91</td>\n",
       "      <td>0.926303</td>\n",
       "      <td>2.657985e-04</td>\n",
       "    </tr>\n",
       "    <tr>\n",
       "      <th>46</th>\n",
       "      <td>1.161573</td>\n",
       "      <td>0.93</td>\n",
       "      <td>0.927876</td>\n",
       "      <td>4.512574e-06</td>\n",
       "    </tr>\n",
       "    <tr>\n",
       "      <th>47</th>\n",
       "      <td>1.180465</td>\n",
       "      <td>0.95</td>\n",
       "      <td>0.940829</td>\n",
       "      <td>8.410135e-05</td>\n",
       "    </tr>\n",
       "    <tr>\n",
       "      <th>48</th>\n",
       "      <td>1.209288</td>\n",
       "      <td>0.97</td>\n",
       "      <td>0.961406</td>\n",
       "      <td>7.385432e-05</td>\n",
       "    </tr>\n",
       "    <tr>\n",
       "      <th>49</th>\n",
       "      <td>1.227701</td>\n",
       "      <td>0.99</td>\n",
       "      <td>0.975075</td>\n",
       "      <td>2.227446e-04</td>\n",
       "    </tr>\n",
       "  </tbody>\n",
       "</table>\n",
       "</div>"
      ],
      "text/plain": [
       "       $y_i$  $F_n$       $F$      $\\delta$\n",
       "0  -1.579823   0.01  0.009502  2.482186e-07\n",
       "1  -1.543897   0.03  0.053324  5.439972e-04\n",
       "2  -1.498445   0.05  0.105914  3.126375e-03\n",
       "3  -1.473366   0.07  0.133601  4.045109e-03\n",
       "4  -1.453279   0.09  0.155108  4.238999e-03\n",
       "5  -1.430607   0.11  0.178678  4.716688e-03\n",
       "6  -1.429233   0.13  0.180083  2.508268e-03\n",
       "7  -1.416044   0.15  0.193429  1.886091e-03\n",
       "8  -1.409980   0.17  0.199483  8.692521e-04\n",
       "9  -1.387536   0.19  0.221439  9.884345e-04\n",
       "10 -1.370354   0.21  0.237775  7.714766e-04\n",
       "11 -1.355803   0.23  0.251294  4.534165e-04\n",
       "12 -1.318873   0.25  0.284320  1.177844e-03\n",
       "13 -1.315931   0.27  0.286873  2.846840e-04\n",
       "14 -1.314010   0.29  0.288534  2.150075e-06\n",
       "15 -1.292926   0.31  0.306445  1.263716e-05\n",
       "16 -1.273150   0.33  0.322723  5.295759e-05\n",
       "17 -1.266370   0.35  0.328189  4.757293e-04\n",
       "18 -1.208002   0.37  0.372866  8.216028e-06\n",
       "19 -1.203430   0.39  0.376190  1.907160e-04\n",
       "20 -1.133335   0.41  0.424048  1.973598e-04\n",
       "21 -1.127232   0.43  0.427947  4.216705e-06\n",
       "22 -1.126457   0.45  0.428439  4.648739e-04\n",
       "23 -1.120446   0.47  0.432232  1.426391e-03\n",
       "24 -1.099979   0.49  0.444846  2.038863e-03\n",
       "25 -1.068360   0.51  0.463430  2.168767e-03\n",
       "26 -1.028956   0.53  0.485099  2.016126e-03\n",
       "27 -0.986668   0.55  0.506578  1.885503e-03\n",
       "28 -0.941773   0.57  0.527451  1.810391e-03\n",
       "29 -0.925150   0.59  0.534694  3.058772e-03\n",
       "30 -0.867509   0.61  0.557856  2.718958e-03\n",
       "31 -0.845182   0.63  0.566043  4.090496e-03\n",
       "32 -0.671242   0.65  0.616260  1.138373e-03\n",
       "33 -0.665817   0.67  0.617473  2.759128e-03\n",
       "34 -0.418137   0.69  0.654482  1.261507e-03\n",
       "35  0.325789   0.71  0.672430  1.411521e-03\n",
       "36  0.770568   0.73  0.742924  1.670264e-04\n",
       "37  0.804129   0.75  0.753328  1.107623e-05\n",
       "38  0.826889   0.77  0.760897  8.286788e-05\n",
       "39  0.832399   0.79  0.762793  7.402170e-04\n",
       "40  0.847770   0.81  0.768217  1.745780e-03\n",
       "41  1.027411   0.83  0.847418  3.033857e-04\n",
       "42  1.034043   0.85  0.850941  8.849327e-07\n",
       "43  1.094259   0.87  0.885045  2.263471e-04\n",
       "44  1.119722   0.89  0.900647  1.133634e-04\n",
       "45  1.159237   0.91  0.926303  2.657985e-04\n",
       "46  1.161573   0.93  0.927876  4.512574e-06\n",
       "47  1.180465   0.95  0.940829  8.410135e-05\n",
       "48  1.209288   0.97  0.961406  7.385432e-05\n",
       "49  1.227701   0.99  0.975075  2.227446e-04"
      ]
     },
     "execution_count": 99,
     "metadata": {},
     "output_type": "execute_result"
    }
   ],
   "source": [
    "Fn = []\n",
    "F = []\n",
    "squared_deviation = []\n",
    "\n",
    "for i in range(1,n+1):\n",
    "    Fn.append((i - 0.5) / n)\n",
    "    F.append(((Y[i-1])**3+4)/6.)\n",
    "    squared_deviation.append((Fn[i-1] - F[i-1])**2)\n",
    "\n",
    "table = pd.DataFrame(data={\"$y_i$\": Y, \"$F_n$\": Fn, \"$F$\": F, \"$\\delta$\": squared_deviation})\n",
    "table"
   ]
  },
  {
   "cell_type": "markdown",
   "metadata": {},
   "source": [
    "Фактическое значение статистики:"
   ]
  },
  {
   "cell_type": "code",
   "execution_count": 45,
   "metadata": {},
   "outputs": [
    {
     "name": "stdout",
     "output_type": "stream",
     "text": [
      "0.10744776352566067\n"
     ]
    }
   ],
   "source": [
    "print(1. / (12 * n) + sum(squared_deviation))"
   ]
  },
  {
   "cell_type": "markdown",
   "metadata": {},
   "source": [
    "Критическое значение статистики Мизеса на уровне значимости $\\alpha=0.05$ по таблице равно $n\\sigma^2_{\\alpha}=0.461$."
   ]
  },
  {
   "cell_type": "markdown",
   "metadata": {},
   "source": [
    "Получили, что фактическое значение меньше критического. Значит, гипотеза не противоречит имеющимся данным"
   ]
  },
  {
   "cell_type": "code",
   "execution_count": null,
   "metadata": {},
   "outputs": [],
   "source": []
  }
 ],
 "metadata": {
  "kernelspec": {
   "display_name": "Python 3",
   "language": "python",
   "name": "python3"
  },
  "language_info": {
   "codemirror_mode": {
    "name": "ipython",
    "version": 3
   },
   "file_extension": ".py",
   "mimetype": "text/x-python",
   "name": "python",
   "nbconvert_exporter": "python",
   "pygments_lexer": "ipython3",
   "version": "3.7.2"
  }
 },
 "nbformat": 4,
 "nbformat_minor": 4
}
